{
 "cells": [
  {
   "cell_type": "code",
   "execution_count": 4,
   "metadata": {
    "collapsed": true
   },
   "outputs": [
    {
     "data": {
      "text/plain": "         Date Country                   State                  City  \\\n0  2012-12-02      US  Additional Territories  San Juan Puerto Rico   \n1  2012-12-03      US  Additional Territories  San Juan Puerto Rico   \n2  2012-12-04      US  Additional Territories  San Juan Puerto Rico   \n3  2012-12-05      US  Additional Territories  San Juan Puerto Rico   \n4  2012-12-06      US  Additional Territories  San Juan Puerto Rico   \n\n   AvgTemperature  \n0            79.4  \n1            77.9  \n2            79.8  \n3            80.2  \n4            78.2  ",
      "text/html": "<div>\n<style scoped>\n    .dataframe tbody tr th:only-of-type {\n        vertical-align: middle;\n    }\n\n    .dataframe tbody tr th {\n        vertical-align: top;\n    }\n\n    .dataframe thead th {\n        text-align: right;\n    }\n</style>\n<table border=\"1\" class=\"dataframe\">\n  <thead>\n    <tr style=\"text-align: right;\">\n      <th></th>\n      <th>Date</th>\n      <th>Country</th>\n      <th>State</th>\n      <th>City</th>\n      <th>AvgTemperature</th>\n    </tr>\n  </thead>\n  <tbody>\n    <tr>\n      <th>0</th>\n      <td>2012-12-02</td>\n      <td>US</td>\n      <td>Additional Territories</td>\n      <td>San Juan Puerto Rico</td>\n      <td>79.4</td>\n    </tr>\n    <tr>\n      <th>1</th>\n      <td>2012-12-03</td>\n      <td>US</td>\n      <td>Additional Territories</td>\n      <td>San Juan Puerto Rico</td>\n      <td>77.9</td>\n    </tr>\n    <tr>\n      <th>2</th>\n      <td>2012-12-04</td>\n      <td>US</td>\n      <td>Additional Territories</td>\n      <td>San Juan Puerto Rico</td>\n      <td>79.8</td>\n    </tr>\n    <tr>\n      <th>3</th>\n      <td>2012-12-05</td>\n      <td>US</td>\n      <td>Additional Territories</td>\n      <td>San Juan Puerto Rico</td>\n      <td>80.2</td>\n    </tr>\n    <tr>\n      <th>4</th>\n      <td>2012-12-06</td>\n      <td>US</td>\n      <td>Additional Territories</td>\n      <td>San Juan Puerto Rico</td>\n      <td>78.2</td>\n    </tr>\n  </tbody>\n</table>\n</div>"
     },
     "execution_count": 4,
     "metadata": {},
     "output_type": "execute_result"
    }
   ],
   "source": [
    "import pandas as pd\n",
    "df = pd.read_csv('Practice1_1.csv')\n",
    "df.head()"
   ]
  },
  {
   "cell_type": "code",
   "execution_count": 5,
   "outputs": [
    {
     "data": {
      "text/plain": "'City'"
     },
     "execution_count": 5,
     "metadata": {},
     "output_type": "execute_result"
    }
   ],
   "source": [
    "df.columns[-2]"
   ],
   "metadata": {
    "collapsed": false,
    "pycharm": {
     "name": "#%%\n"
    }
   }
  },
  {
   "cell_type": "code",
   "execution_count": 15,
   "outputs": [
    {
     "data": {
      "text/plain": "             Date Country                   State                  City  \\\n56334  2012-12-02      US  Additional Territories  San Juan Puerto Rico   \n56335  2012-12-03      US  Additional Territories  San Juan Puerto Rico   \n56336  2012-12-04      US  Additional Territories  San Juan Puerto Rico   \n56337  2012-12-05      US  Additional Territories  San Juan Puerto Rico   \n56338  2012-12-06      US  Additional Territories  San Juan Puerto Rico   \n\n       AvgTemperature  \n56334            79.4  \n56335            77.9  \n56336            79.8  \n56337            80.2  \n56338            78.2  ",
      "text/html": "<div>\n<style scoped>\n    .dataframe tbody tr th:only-of-type {\n        vertical-align: middle;\n    }\n\n    .dataframe tbody tr th {\n        vertical-align: top;\n    }\n\n    .dataframe thead th {\n        text-align: right;\n    }\n</style>\n<table border=\"1\" class=\"dataframe\">\n  <thead>\n    <tr style=\"text-align: right;\">\n      <th></th>\n      <th>Date</th>\n      <th>Country</th>\n      <th>State</th>\n      <th>City</th>\n      <th>AvgTemperature</th>\n    </tr>\n  </thead>\n  <tbody>\n    <tr>\n      <th>56334</th>\n      <td>2012-12-02</td>\n      <td>US</td>\n      <td>Additional Territories</td>\n      <td>San Juan Puerto Rico</td>\n      <td>79.4</td>\n    </tr>\n    <tr>\n      <th>56335</th>\n      <td>2012-12-03</td>\n      <td>US</td>\n      <td>Additional Territories</td>\n      <td>San Juan Puerto Rico</td>\n      <td>77.9</td>\n    </tr>\n    <tr>\n      <th>56336</th>\n      <td>2012-12-04</td>\n      <td>US</td>\n      <td>Additional Territories</td>\n      <td>San Juan Puerto Rico</td>\n      <td>79.8</td>\n    </tr>\n    <tr>\n      <th>56337</th>\n      <td>2012-12-05</td>\n      <td>US</td>\n      <td>Additional Territories</td>\n      <td>San Juan Puerto Rico</td>\n      <td>80.2</td>\n    </tr>\n    <tr>\n      <th>56338</th>\n      <td>2012-12-06</td>\n      <td>US</td>\n      <td>Additional Territories</td>\n      <td>San Juan Puerto Rico</td>\n      <td>78.2</td>\n    </tr>\n  </tbody>\n</table>\n</div>"
     },
     "execution_count": 15,
     "metadata": {},
     "output_type": "execute_result"
    }
   ],
   "source": [
    "df = pd.read_csv('Practice1_2.csv', sep=';', index_col=0)\n",
    "df.head()"
   ],
   "metadata": {
    "collapsed": false,
    "pycharm": {
     "name": "#%%\n"
    }
   }
  },
  {
   "cell_type": "code",
   "execution_count": 12,
   "outputs": [
    {
     "data": {
      "text/plain": "          Date Country    State        City  AvgTemperature\n0   2012-01-03      US  Alabama  Birmingham            30.9\n1   2012-01-04      US  Alabama  Birmingham            34.7\n2   2012-01-13      US  Alabama  Birmingham            31.6\n3   2012-02-12      US  Alabama  Birmingham            29.5\n4   2012-02-13      US  Alabama  Birmingham            34.8\n5   2012-12-27      US  Alabama  Birmingham            34.3\n6   2012-12-30      US  Alabama  Birmingham            34.5\n7   2012-01-03      US  Alabama  Huntsville            28.2\n8   2012-01-04      US  Alabama  Huntsville            32.6\n9   2012-01-13      US  Alabama  Huntsville            30.1\n10  2012-02-11      US  Alabama  Huntsville            34.8\n11  2012-02-12      US  Alabama  Huntsville            27.6\n12  2012-02-13      US  Alabama  Huntsville            31.5\n13  2012-12-30      US  Alabama  Huntsville            34.1\n14  2012-01-04      US  Alabama  Montgomery            34.3\n15  2012-02-12      US  Alabama  Montgomery            33.3\n16  2012-01-01      US   Alaska   Anchorage            -1.2\n17  2012-01-02      US   Alaska   Anchorage            -6.8\n18  2012-01-03      US   Alaska   Anchorage            -3.2\n19  2012-01-04      US   Alaska   Anchorage             0.2\n20  2012-01-05      US   Alaska   Anchorage             0.9\n21  2012-01-06      US   Alaska   Anchorage            10.8\n22  2012-01-07      US   Alaska   Anchorage             3.5\n23  2012-01-08      US   Alaska   Anchorage            14.7\n24  2012-01-09      US   Alaska   Anchorage             3.6\n25  2012-01-10      US   Alaska   Anchorage             7.3\n26  2012-01-11      US   Alaska   Anchorage            27.0\n27  2012-01-12      US   Alaska   Anchorage            23.7\n28  2012-01-13      US   Alaska   Anchorage            10.3\n29  2012-01-14      US   Alaska   Anchorage             3.0",
      "text/html": "<div>\n<style scoped>\n    .dataframe tbody tr th:only-of-type {\n        vertical-align: middle;\n    }\n\n    .dataframe tbody tr th {\n        vertical-align: top;\n    }\n\n    .dataframe thead th {\n        text-align: right;\n    }\n</style>\n<table border=\"1\" class=\"dataframe\">\n  <thead>\n    <tr style=\"text-align: right;\">\n      <th></th>\n      <th>Date</th>\n      <th>Country</th>\n      <th>State</th>\n      <th>City</th>\n      <th>AvgTemperature</th>\n    </tr>\n  </thead>\n  <tbody>\n    <tr>\n      <th>0</th>\n      <td>2012-01-03</td>\n      <td>US</td>\n      <td>Alabama</td>\n      <td>Birmingham</td>\n      <td>30.9</td>\n    </tr>\n    <tr>\n      <th>1</th>\n      <td>2012-01-04</td>\n      <td>US</td>\n      <td>Alabama</td>\n      <td>Birmingham</td>\n      <td>34.7</td>\n    </tr>\n    <tr>\n      <th>2</th>\n      <td>2012-01-13</td>\n      <td>US</td>\n      <td>Alabama</td>\n      <td>Birmingham</td>\n      <td>31.6</td>\n    </tr>\n    <tr>\n      <th>3</th>\n      <td>2012-02-12</td>\n      <td>US</td>\n      <td>Alabama</td>\n      <td>Birmingham</td>\n      <td>29.5</td>\n    </tr>\n    <tr>\n      <th>4</th>\n      <td>2012-02-13</td>\n      <td>US</td>\n      <td>Alabama</td>\n      <td>Birmingham</td>\n      <td>34.8</td>\n    </tr>\n    <tr>\n      <th>5</th>\n      <td>2012-12-27</td>\n      <td>US</td>\n      <td>Alabama</td>\n      <td>Birmingham</td>\n      <td>34.3</td>\n    </tr>\n    <tr>\n      <th>6</th>\n      <td>2012-12-30</td>\n      <td>US</td>\n      <td>Alabama</td>\n      <td>Birmingham</td>\n      <td>34.5</td>\n    </tr>\n    <tr>\n      <th>7</th>\n      <td>2012-01-03</td>\n      <td>US</td>\n      <td>Alabama</td>\n      <td>Huntsville</td>\n      <td>28.2</td>\n    </tr>\n    <tr>\n      <th>8</th>\n      <td>2012-01-04</td>\n      <td>US</td>\n      <td>Alabama</td>\n      <td>Huntsville</td>\n      <td>32.6</td>\n    </tr>\n    <tr>\n      <th>9</th>\n      <td>2012-01-13</td>\n      <td>US</td>\n      <td>Alabama</td>\n      <td>Huntsville</td>\n      <td>30.1</td>\n    </tr>\n    <tr>\n      <th>10</th>\n      <td>2012-02-11</td>\n      <td>US</td>\n      <td>Alabama</td>\n      <td>Huntsville</td>\n      <td>34.8</td>\n    </tr>\n    <tr>\n      <th>11</th>\n      <td>2012-02-12</td>\n      <td>US</td>\n      <td>Alabama</td>\n      <td>Huntsville</td>\n      <td>27.6</td>\n    </tr>\n    <tr>\n      <th>12</th>\n      <td>2012-02-13</td>\n      <td>US</td>\n      <td>Alabama</td>\n      <td>Huntsville</td>\n      <td>31.5</td>\n    </tr>\n    <tr>\n      <th>13</th>\n      <td>2012-12-30</td>\n      <td>US</td>\n      <td>Alabama</td>\n      <td>Huntsville</td>\n      <td>34.1</td>\n    </tr>\n    <tr>\n      <th>14</th>\n      <td>2012-01-04</td>\n      <td>US</td>\n      <td>Alabama</td>\n      <td>Montgomery</td>\n      <td>34.3</td>\n    </tr>\n    <tr>\n      <th>15</th>\n      <td>2012-02-12</td>\n      <td>US</td>\n      <td>Alabama</td>\n      <td>Montgomery</td>\n      <td>33.3</td>\n    </tr>\n    <tr>\n      <th>16</th>\n      <td>2012-01-01</td>\n      <td>US</td>\n      <td>Alaska</td>\n      <td>Anchorage</td>\n      <td>-1.2</td>\n    </tr>\n    <tr>\n      <th>17</th>\n      <td>2012-01-02</td>\n      <td>US</td>\n      <td>Alaska</td>\n      <td>Anchorage</td>\n      <td>-6.8</td>\n    </tr>\n    <tr>\n      <th>18</th>\n      <td>2012-01-03</td>\n      <td>US</td>\n      <td>Alaska</td>\n      <td>Anchorage</td>\n      <td>-3.2</td>\n    </tr>\n    <tr>\n      <th>19</th>\n      <td>2012-01-04</td>\n      <td>US</td>\n      <td>Alaska</td>\n      <td>Anchorage</td>\n      <td>0.2</td>\n    </tr>\n    <tr>\n      <th>20</th>\n      <td>2012-01-05</td>\n      <td>US</td>\n      <td>Alaska</td>\n      <td>Anchorage</td>\n      <td>0.9</td>\n    </tr>\n    <tr>\n      <th>21</th>\n      <td>2012-01-06</td>\n      <td>US</td>\n      <td>Alaska</td>\n      <td>Anchorage</td>\n      <td>10.8</td>\n    </tr>\n    <tr>\n      <th>22</th>\n      <td>2012-01-07</td>\n      <td>US</td>\n      <td>Alaska</td>\n      <td>Anchorage</td>\n      <td>3.5</td>\n    </tr>\n    <tr>\n      <th>23</th>\n      <td>2012-01-08</td>\n      <td>US</td>\n      <td>Alaska</td>\n      <td>Anchorage</td>\n      <td>14.7</td>\n    </tr>\n    <tr>\n      <th>24</th>\n      <td>2012-01-09</td>\n      <td>US</td>\n      <td>Alaska</td>\n      <td>Anchorage</td>\n      <td>3.6</td>\n    </tr>\n    <tr>\n      <th>25</th>\n      <td>2012-01-10</td>\n      <td>US</td>\n      <td>Alaska</td>\n      <td>Anchorage</td>\n      <td>7.3</td>\n    </tr>\n    <tr>\n      <th>26</th>\n      <td>2012-01-11</td>\n      <td>US</td>\n      <td>Alaska</td>\n      <td>Anchorage</td>\n      <td>27.0</td>\n    </tr>\n    <tr>\n      <th>27</th>\n      <td>2012-01-12</td>\n      <td>US</td>\n      <td>Alaska</td>\n      <td>Anchorage</td>\n      <td>23.7</td>\n    </tr>\n    <tr>\n      <th>28</th>\n      <td>2012-01-13</td>\n      <td>US</td>\n      <td>Alaska</td>\n      <td>Anchorage</td>\n      <td>10.3</td>\n    </tr>\n    <tr>\n      <th>29</th>\n      <td>2012-01-14</td>\n      <td>US</td>\n      <td>Alaska</td>\n      <td>Anchorage</td>\n      <td>3.0</td>\n    </tr>\n  </tbody>\n</table>\n</div>"
     },
     "execution_count": 12,
     "metadata": {},
     "output_type": "execute_result"
    }
   ],
   "source": [
    "df = pd.read_csv('Practice1_3.csv')\n",
    "df[df['AvgTemperature']>30]"
   ],
   "metadata": {
    "collapsed": false,
    "pycharm": {
     "name": "#%%\n"
    }
   }
  },
  {
   "cell_type": "code",
   "execution_count": 16,
   "outputs": [
    {
     "data": {
      "text/plain": "         Date Country    State        City  AvgTemperature\n0  2012-01-01      US  Alabama  Birmingham            59.1\n1  2012-01-02      US  Alabama  Birmingham            43.0\n2  2012-01-03      US  Alabama  Birmingham            30.9\n3  2012-01-04      US  Alabama  Birmingham            34.7\n4  2012-01-05      US  Alabama  Birmingham            44.1",
      "text/html": "<div>\n<style scoped>\n    .dataframe tbody tr th:only-of-type {\n        vertical-align: middle;\n    }\n\n    .dataframe tbody tr th {\n        vertical-align: top;\n    }\n\n    .dataframe thead th {\n        text-align: right;\n    }\n</style>\n<table border=\"1\" class=\"dataframe\">\n  <thead>\n    <tr style=\"text-align: right;\">\n      <th></th>\n      <th>Date</th>\n      <th>Country</th>\n      <th>State</th>\n      <th>City</th>\n      <th>AvgTemperature</th>\n    </tr>\n  </thead>\n  <tbody>\n    <tr>\n      <th>0</th>\n      <td>2012-01-01</td>\n      <td>US</td>\n      <td>Alabama</td>\n      <td>Birmingham</td>\n      <td>59.1</td>\n    </tr>\n    <tr>\n      <th>1</th>\n      <td>2012-01-02</td>\n      <td>US</td>\n      <td>Alabama</td>\n      <td>Birmingham</td>\n      <td>43.0</td>\n    </tr>\n    <tr>\n      <th>2</th>\n      <td>2012-01-03</td>\n      <td>US</td>\n      <td>Alabama</td>\n      <td>Birmingham</td>\n      <td>30.9</td>\n    </tr>\n    <tr>\n      <th>3</th>\n      <td>2012-01-04</td>\n      <td>US</td>\n      <td>Alabama</td>\n      <td>Birmingham</td>\n      <td>34.7</td>\n    </tr>\n    <tr>\n      <th>4</th>\n      <td>2012-01-05</td>\n      <td>US</td>\n      <td>Alabama</td>\n      <td>Birmingham</td>\n      <td>44.1</td>\n    </tr>\n  </tbody>\n</table>\n</div>"
     },
     "execution_count": 16,
     "metadata": {},
     "output_type": "execute_result"
    }
   ],
   "source": [
    "df = pd.read_csv('2-1.csv')\n",
    "df.head()"
   ],
   "metadata": {
    "collapsed": false,
    "pycharm": {
     "name": "#%%\n"
    }
   }
  },
  {
   "cell_type": "code",
   "execution_count": 19,
   "outputs": [],
   "source": [
    "df.to_csv('result.csv', index_label='index')"
   ],
   "metadata": {
    "collapsed": false,
    "pycharm": {
     "name": "#%%\n"
    }
   }
  },
  {
   "cell_type": "code",
   "execution_count": 29,
   "outputs": [
    {
     "data": {
      "text/plain": "         Date Country    State        City  AvgTemperature             Name\n0  2012-01-01      US  Alabama  Birmingham            59.1  Joshua Harrison\n1  2012-01-02      US  Alabama  Birmingham            43.0  Mauricio Hinton\n2  2012-01-03      US  Alabama  Birmingham            30.9       Scott Kaur\n3  2012-01-04      US  Alabama  Birmingham            34.7      Davion Moss\n4  2012-01-05      US  Alabama  Birmingham            44.1  Mauricio Hinton",
      "text/html": "<div>\n<style scoped>\n    .dataframe tbody tr th:only-of-type {\n        vertical-align: middle;\n    }\n\n    .dataframe tbody tr th {\n        vertical-align: top;\n    }\n\n    .dataframe thead th {\n        text-align: right;\n    }\n</style>\n<table border=\"1\" class=\"dataframe\">\n  <thead>\n    <tr style=\"text-align: right;\">\n      <th></th>\n      <th>Date</th>\n      <th>Country</th>\n      <th>State</th>\n      <th>City</th>\n      <th>AvgTemperature</th>\n      <th>Name</th>\n    </tr>\n  </thead>\n  <tbody>\n    <tr>\n      <th>0</th>\n      <td>2012-01-01</td>\n      <td>US</td>\n      <td>Alabama</td>\n      <td>Birmingham</td>\n      <td>59.1</td>\n      <td>Joshua Harrison</td>\n    </tr>\n    <tr>\n      <th>1</th>\n      <td>2012-01-02</td>\n      <td>US</td>\n      <td>Alabama</td>\n      <td>Birmingham</td>\n      <td>43.0</td>\n      <td>Mauricio Hinton</td>\n    </tr>\n    <tr>\n      <th>2</th>\n      <td>2012-01-03</td>\n      <td>US</td>\n      <td>Alabama</td>\n      <td>Birmingham</td>\n      <td>30.9</td>\n      <td>Scott Kaur</td>\n    </tr>\n    <tr>\n      <th>3</th>\n      <td>2012-01-04</td>\n      <td>US</td>\n      <td>Alabama</td>\n      <td>Birmingham</td>\n      <td>34.7</td>\n      <td>Davion Moss</td>\n    </tr>\n    <tr>\n      <th>4</th>\n      <td>2012-01-05</td>\n      <td>US</td>\n      <td>Alabama</td>\n      <td>Birmingham</td>\n      <td>44.1</td>\n      <td>Mauricio Hinton</td>\n    </tr>\n  </tbody>\n</table>\n</div>"
     },
     "execution_count": 29,
     "metadata": {},
     "output_type": "execute_result"
    }
   ],
   "source": [
    "df = pd.read_csv('3-1.csv')\n",
    "df.head()"
   ],
   "metadata": {
    "collapsed": false,
    "pycharm": {
     "name": "#%%\n"
    }
   }
  },
  {
   "cell_type": "code",
   "execution_count": 30,
   "outputs": [],
   "source": [
    "df.to_csv('result1.csv', sep=';', index_label='index')"
   ],
   "metadata": {
    "collapsed": false,
    "pycharm": {
     "name": "#%%\n"
    }
   }
  },
  {
   "cell_type": "code",
   "execution_count": 32,
   "outputs": [
    {
     "data": {
      "text/plain": "             Date Country    State        City  AvgTemperature  \\\nindex                                                            \n0      2012-01-01      US  Alabama  Birmingham            59.1   \n1      2012-01-02      US  Alabama  Birmingham            43.0   \n2      2012-01-03      US  Alabama  Birmingham            30.9   \n3      2012-01-04      US  Alabama  Birmingham            34.7   \n4      2012-01-05      US  Alabama  Birmingham            44.1   \n\n                  Name  \nindex                   \n0      Joshua Harrison  \n1      Mauricio Hinton  \n2       Scott Kaur, Jr  \n3          Davion Moss  \n4      Mauricio Hinton  ",
      "text/html": "<div>\n<style scoped>\n    .dataframe tbody tr th:only-of-type {\n        vertical-align: middle;\n    }\n\n    .dataframe tbody tr th {\n        vertical-align: top;\n    }\n\n    .dataframe thead th {\n        text-align: right;\n    }\n</style>\n<table border=\"1\" class=\"dataframe\">\n  <thead>\n    <tr style=\"text-align: right;\">\n      <th></th>\n      <th>Date</th>\n      <th>Country</th>\n      <th>State</th>\n      <th>City</th>\n      <th>AvgTemperature</th>\n      <th>Name</th>\n    </tr>\n    <tr>\n      <th>index</th>\n      <th></th>\n      <th></th>\n      <th></th>\n      <th></th>\n      <th></th>\n      <th></th>\n    </tr>\n  </thead>\n  <tbody>\n    <tr>\n      <th>0</th>\n      <td>2012-01-01</td>\n      <td>US</td>\n      <td>Alabama</td>\n      <td>Birmingham</td>\n      <td>59.1</td>\n      <td>Joshua Harrison</td>\n    </tr>\n    <tr>\n      <th>1</th>\n      <td>2012-01-02</td>\n      <td>US</td>\n      <td>Alabama</td>\n      <td>Birmingham</td>\n      <td>43.0</td>\n      <td>Mauricio Hinton</td>\n    </tr>\n    <tr>\n      <th>2</th>\n      <td>2012-01-03</td>\n      <td>US</td>\n      <td>Alabama</td>\n      <td>Birmingham</td>\n      <td>30.9</td>\n      <td>Scott Kaur, Jr</td>\n    </tr>\n    <tr>\n      <th>3</th>\n      <td>2012-01-04</td>\n      <td>US</td>\n      <td>Alabama</td>\n      <td>Birmingham</td>\n      <td>34.7</td>\n      <td>Davion Moss</td>\n    </tr>\n    <tr>\n      <th>4</th>\n      <td>2012-01-05</td>\n      <td>US</td>\n      <td>Alabama</td>\n      <td>Birmingham</td>\n      <td>44.1</td>\n      <td>Mauricio Hinton</td>\n    </tr>\n  </tbody>\n</table>\n</div>"
     },
     "execution_count": 32,
     "metadata": {},
     "output_type": "execute_result"
    }
   ],
   "source": [
    "df = pd.read_csv('result1.csv', sep=';', index_col='index')\n",
    "df.head()"
   ],
   "metadata": {
    "collapsed": false,
    "pycharm": {
     "name": "#%%\n"
    }
   }
  },
  {
   "cell_type": "code",
   "execution_count": 42,
   "outputs": [
    {
     "data": {
      "text/plain": "         Date Country    State        City  AvgTemperature\n0  01/01/2012      US  Alabama  Birmingham            59.1\n1  01/02/2012      US  Alabama  Birmingham            43.0\n2  01/03/2012      US  Alabama  Birmingham            30.9\n3  01/04/2012      US  Alabama  Birmingham            34.7\n4  01/05/2012      US  Alabama  Birmingham            44.1",
      "text/html": "<div>\n<style scoped>\n    .dataframe tbody tr th:only-of-type {\n        vertical-align: middle;\n    }\n\n    .dataframe tbody tr th {\n        vertical-align: top;\n    }\n\n    .dataframe thead th {\n        text-align: right;\n    }\n</style>\n<table border=\"1\" class=\"dataframe\">\n  <thead>\n    <tr style=\"text-align: right;\">\n      <th></th>\n      <th>Date</th>\n      <th>Country</th>\n      <th>State</th>\n      <th>City</th>\n      <th>AvgTemperature</th>\n    </tr>\n  </thead>\n  <tbody>\n    <tr>\n      <th>0</th>\n      <td>01/01/2012</td>\n      <td>US</td>\n      <td>Alabama</td>\n      <td>Birmingham</td>\n      <td>59.1</td>\n    </tr>\n    <tr>\n      <th>1</th>\n      <td>01/02/2012</td>\n      <td>US</td>\n      <td>Alabama</td>\n      <td>Birmingham</td>\n      <td>43.0</td>\n    </tr>\n    <tr>\n      <th>2</th>\n      <td>01/03/2012</td>\n      <td>US</td>\n      <td>Alabama</td>\n      <td>Birmingham</td>\n      <td>30.9</td>\n    </tr>\n    <tr>\n      <th>3</th>\n      <td>01/04/2012</td>\n      <td>US</td>\n      <td>Alabama</td>\n      <td>Birmingham</td>\n      <td>34.7</td>\n    </tr>\n    <tr>\n      <th>4</th>\n      <td>01/05/2012</td>\n      <td>US</td>\n      <td>Alabama</td>\n      <td>Birmingham</td>\n      <td>44.1</td>\n    </tr>\n  </tbody>\n</table>\n</div>"
     },
     "execution_count": 42,
     "metadata": {},
     "output_type": "execute_result"
    }
   ],
   "source": [
    "df = pd.read_csv('Practice2_1.csv')\n",
    "df.head()"
   ],
   "metadata": {
    "collapsed": false,
    "pycharm": {
     "name": "#%%\n"
    }
   }
  },
  {
   "cell_type": "code",
   "execution_count": 43,
   "outputs": [],
   "source": [
    "df.to_csv('MyPractice2_1.csv', sep=';', index_label='index')"
   ],
   "metadata": {
    "collapsed": false,
    "pycharm": {
     "name": "#%%\n"
    }
   }
  },
  {
   "cell_type": "code",
   "execution_count": 44,
   "outputs": [
    {
     "data": {
      "text/plain": "         Date Country    State        City  AvgTemperature\n0  01/01/2012      US  Alabama  Birmingham            59.1\n1  01/02/2012      US  Alabama  Birmingham            43.0\n2  01/03/2012      US  Alabama  Birmingham            30.9\n3  01/04/2012      US  Alabama  Birmingham            34.7\n4  01/05/2012      US  Alabama  Birmingham            44.1",
      "text/html": "<div>\n<style scoped>\n    .dataframe tbody tr th:only-of-type {\n        vertical-align: middle;\n    }\n\n    .dataframe tbody tr th {\n        vertical-align: top;\n    }\n\n    .dataframe thead th {\n        text-align: right;\n    }\n</style>\n<table border=\"1\" class=\"dataframe\">\n  <thead>\n    <tr style=\"text-align: right;\">\n      <th></th>\n      <th>Date</th>\n      <th>Country</th>\n      <th>State</th>\n      <th>City</th>\n      <th>AvgTemperature</th>\n    </tr>\n  </thead>\n  <tbody>\n    <tr>\n      <th>0</th>\n      <td>01/01/2012</td>\n      <td>US</td>\n      <td>Alabama</td>\n      <td>Birmingham</td>\n      <td>59.1</td>\n    </tr>\n    <tr>\n      <th>1</th>\n      <td>01/02/2012</td>\n      <td>US</td>\n      <td>Alabama</td>\n      <td>Birmingham</td>\n      <td>43.0</td>\n    </tr>\n    <tr>\n      <th>2</th>\n      <td>01/03/2012</td>\n      <td>US</td>\n      <td>Alabama</td>\n      <td>Birmingham</td>\n      <td>30.9</td>\n    </tr>\n    <tr>\n      <th>3</th>\n      <td>01/04/2012</td>\n      <td>US</td>\n      <td>Alabama</td>\n      <td>Birmingham</td>\n      <td>34.7</td>\n    </tr>\n    <tr>\n      <th>4</th>\n      <td>01/05/2012</td>\n      <td>US</td>\n      <td>Alabama</td>\n      <td>Birmingham</td>\n      <td>44.1</td>\n    </tr>\n  </tbody>\n</table>\n</div>"
     },
     "execution_count": 44,
     "metadata": {},
     "output_type": "execute_result"
    }
   ],
   "source": [
    "pd.read_csv('MyPractice2_1.csv', sep=';', index_col='index')\n",
    "df.head()"
   ],
   "metadata": {
    "collapsed": false,
    "pycharm": {
     "name": "#%%\n"
    }
   }
  },
  {
   "cell_type": "code",
   "execution_count": 45,
   "outputs": [
    {
     "data": {
      "text/plain": "         Date Country    State        City  AvgTemperature  AvgTemperature_2\n0  01/01/2012      US  Alabama  Birmingham            59.1           3492.81\n1  01/02/2012      US  Alabama  Birmingham            43.0           1849.00\n2  01/03/2012      US  Alabama  Birmingham            30.9            954.81\n3  01/04/2012      US  Alabama  Birmingham            34.7           1204.09\n4  01/05/2012      US  Alabama  Birmingham            44.1           1944.81",
      "text/html": "<div>\n<style scoped>\n    .dataframe tbody tr th:only-of-type {\n        vertical-align: middle;\n    }\n\n    .dataframe tbody tr th {\n        vertical-align: top;\n    }\n\n    .dataframe thead th {\n        text-align: right;\n    }\n</style>\n<table border=\"1\" class=\"dataframe\">\n  <thead>\n    <tr style=\"text-align: right;\">\n      <th></th>\n      <th>Date</th>\n      <th>Country</th>\n      <th>State</th>\n      <th>City</th>\n      <th>AvgTemperature</th>\n      <th>AvgTemperature_2</th>\n    </tr>\n  </thead>\n  <tbody>\n    <tr>\n      <th>0</th>\n      <td>01/01/2012</td>\n      <td>US</td>\n      <td>Alabama</td>\n      <td>Birmingham</td>\n      <td>59.1</td>\n      <td>3492.81</td>\n    </tr>\n    <tr>\n      <th>1</th>\n      <td>01/02/2012</td>\n      <td>US</td>\n      <td>Alabama</td>\n      <td>Birmingham</td>\n      <td>43.0</td>\n      <td>1849.00</td>\n    </tr>\n    <tr>\n      <th>2</th>\n      <td>01/03/2012</td>\n      <td>US</td>\n      <td>Alabama</td>\n      <td>Birmingham</td>\n      <td>30.9</td>\n      <td>954.81</td>\n    </tr>\n    <tr>\n      <th>3</th>\n      <td>01/04/2012</td>\n      <td>US</td>\n      <td>Alabama</td>\n      <td>Birmingham</td>\n      <td>34.7</td>\n      <td>1204.09</td>\n    </tr>\n    <tr>\n      <th>4</th>\n      <td>01/05/2012</td>\n      <td>US</td>\n      <td>Alabama</td>\n      <td>Birmingham</td>\n      <td>44.1</td>\n      <td>1944.81</td>\n    </tr>\n  </tbody>\n</table>\n</div>"
     },
     "execution_count": 45,
     "metadata": {},
     "output_type": "execute_result"
    }
   ],
   "source": [
    "df['AvgTemperature_2'] = df['AvgTemperature'] ** 2\n",
    "df.head()"
   ],
   "metadata": {
    "collapsed": false,
    "pycharm": {
     "name": "#%%\n"
    }
   }
  },
  {
   "cell_type": "code",
   "execution_count": 46,
   "outputs": [],
   "source": [
    "df.to_csv('MyPractice2_1.csv', sep=',', index_label='index')"
   ],
   "metadata": {
    "collapsed": false,
    "pycharm": {
     "name": "#%%\n"
    }
   }
  },
  {
   "cell_type": "code",
   "execution_count": null,
   "outputs": [],
   "source": [],
   "metadata": {
    "collapsed": false,
    "pycharm": {
     "name": "#%%\n"
    }
   }
  },
  {
   "cell_type": "code",
   "execution_count": null,
   "outputs": [],
   "source": [],
   "metadata": {
    "collapsed": false,
    "pycharm": {
     "name": "#%%\n"
    }
   }
  },
  {
   "cell_type": "code",
   "execution_count": null,
   "outputs": [],
   "source": [],
   "metadata": {
    "collapsed": false,
    "pycharm": {
     "name": "#%%\n"
    }
   }
  },
  {
   "cell_type": "code",
   "execution_count": null,
   "outputs": [],
   "source": [],
   "metadata": {
    "collapsed": false,
    "pycharm": {
     "name": "#%%\n"
    }
   }
  },
  {
   "cell_type": "code",
   "execution_count": null,
   "outputs": [],
   "source": [],
   "metadata": {
    "collapsed": false,
    "pycharm": {
     "name": "#%%\n"
    }
   }
  }
 ],
 "metadata": {
  "kernelspec": {
   "display_name": "Python 3",
   "language": "python",
   "name": "python3"
  },
  "language_info": {
   "codemirror_mode": {
    "name": "ipython",
    "version": 2
   },
   "file_extension": ".py",
   "mimetype": "text/x-python",
   "name": "python",
   "nbconvert_exporter": "python",
   "pygments_lexer": "ipython2",
   "version": "2.7.6"
  }
 },
 "nbformat": 4,
 "nbformat_minor": 0
}